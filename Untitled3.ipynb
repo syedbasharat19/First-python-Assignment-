{
  "nbformat": 4,
  "nbformat_minor": 0,
  "metadata": {
    "colab": {
      "name": "Untitled3.ipynb",
      "provenance": [],
      "collapsed_sections": []
    },
    "kernelspec": {
      "name": "python3",
      "display_name": "Python 3"
    },
    "language_info": {
      "name": "python"
    }
  },
  "cells": [
    {
      "cell_type": "code",
      "execution_count": null,
      "metadata": {
        "id": "fajIz30SQCsm"
      },
      "outputs": [],
      "source": [
        "s = \"this is My First Python programming class and i am learNING python string and its function\"\n",
        "\n",
        "Q1: extract Data from index 1 to index300 with a jump of 3 "
      ]
    },
    {
      "cell_type": "markdown",
      "source": [
        ""
      ],
      "metadata": {
        "id": "wu6xIjTaXA4t"
      }
    },
    {
      "cell_type": "code",
      "source": [
        "s = \"this is My First Python programming class and i am learNING python string and its function\"\n",
        "s[1:300:3]"
      ],
      "metadata": {
        "colab": {
          "base_uri": "https://localhost:8080/",
          "height": 35
        },
        "id": "JtUZmzBKTUb-",
        "outputId": "1b3cfbe2-fb85-4247-a009-8ccfbe6fc434"
      },
      "execution_count": 1,
      "outputs": [
        {
          "output_type": "execute_result",
          "data": {
            "text/plain": [
              "'h   r tnrrmglsnimeNGyosi dtfco'"
            ],
            "application/vnd.google.colaboratory.intrinsic+json": {
              "type": "string"
            }
          },
          "metadata": {},
          "execution_count": 1
        }
      ]
    },
    {
      "cell_type": "markdown",
      "source": [
        "Q2. reverse the string without using reverse function "
      ],
      "metadata": {
        "id": "kok6dKoyQN7S"
      }
    },
    {
      "cell_type": "code",
      "source": [
        "s = \"this is My First Python programming class and i am learNING python string and its function\"\n",
        "s[::-1]"
      ],
      "metadata": {
        "colab": {
          "base_uri": "https://localhost:8080/",
          "height": 35
        },
        "id": "CXWKSzxnWuAF",
        "outputId": "d5bfab6a-b0c7-48aa-c1e4-fb06d1474832"
      },
      "execution_count": 2,
      "outputs": [
        {
          "output_type": "execute_result",
          "data": {
            "text/plain": [
              "'noitcnuf sti dna gnirts nohtyp GNINrael ma i dna ssalc gnimmargorp nohtyP tsriF yM si siht'"
            ],
            "application/vnd.google.colaboratory.intrinsic+json": {
              "type": "string"
            }
          },
          "metadata": {},
          "execution_count": 2
        }
      ]
    },
    {
      "cell_type": "markdown",
      "source": [
        "Q3 Split a string after conversion of entire string in upper case "
      ],
      "metadata": {
        "id": "ApYxOigcXHCs"
      }
    },
    {
      "cell_type": "code",
      "source": [
        "s=\"this is My First Python programming class and i am learNING python string and its function\"\n",
        "s.upper()"
      ],
      "metadata": {
        "colab": {
          "base_uri": "https://localhost:8080/",
          "height": 35
        },
        "id": "y8B2TC_QXX8Q",
        "outputId": "cc06c4ae-3288-4fb1-a454-7108721041a4"
      },
      "execution_count": 6,
      "outputs": [
        {
          "output_type": "execute_result",
          "data": {
            "text/plain": [
              "'THIS IS MY FIRST PYTHON PROGRAMMING CLASS AND I AM LEARNING PYTHON STRING AND ITS FUNCTION'"
            ],
            "application/vnd.google.colaboratory.intrinsic+json": {
              "type": "string"
            }
          },
          "metadata": {},
          "execution_count": 6
        }
      ]
    },
    {
      "cell_type": "code",
      "source": [
        "s1= \"THIS IS MY FIRST PYTHON PROGRAMMING CLASS AND I AM LEARNING PYTHON STRING AND ITS FUNCTION\"\n",
        "s1.split( )"
      ],
      "metadata": {
        "colab": {
          "base_uri": "https://localhost:8080/"
        },
        "id": "gUstcABuYE0Z",
        "outputId": "2cea8f7d-9e6e-4cfa-9811-19eaf0dc5c0d"
      },
      "execution_count": 10,
      "outputs": [
        {
          "output_type": "execute_result",
          "data": {
            "text/plain": [
              "['THIS',\n",
              " 'IS',\n",
              " 'MY',\n",
              " 'FIRST',\n",
              " 'PYTHON',\n",
              " 'PROGRAMMING',\n",
              " 'CLASS',\n",
              " 'AND',\n",
              " 'I',\n",
              " 'AM',\n",
              " 'LEARNING',\n",
              " 'PYTHON',\n",
              " 'STRING',\n",
              " 'AND',\n",
              " 'ITS',\n",
              " 'FUNCTION']"
            ]
          },
          "metadata": {},
          "execution_count": 10
        }
      ]
    },
    {
      "cell_type": "markdown",
      "source": [
        "Q4 Convert the whole string in lower case \n"
      ],
      "metadata": {
        "id": "rt6kSY3pcMrk"
      }
    },
    {
      "cell_type": "code",
      "source": [
        "s1=\"THIS IS MY FIRST PYTHON PROGRAMMING CLASS AND I AM LEARNING PYTHON STRING AND ITS FUNCTION\"\n",
        "s1.lower()"
      ],
      "metadata": {
        "colab": {
          "base_uri": "https://localhost:8080/",
          "height": 35
        },
        "id": "nz3ulGZWcTg-",
        "outputId": "df95a867-76f7-47a4-f522-3f2f30d02776"
      },
      "execution_count": 13,
      "outputs": [
        {
          "output_type": "execute_result",
          "data": {
            "text/plain": [
              "'this is my first python programming class and i am learning python string and its function'"
            ],
            "application/vnd.google.colaboratory.intrinsic+json": {
              "type": "string"
            }
          },
          "metadata": {},
          "execution_count": 13
        }
      ]
    },
    {
      "cell_type": "code",
      "source": [
        ""
      ],
      "metadata": {
        "id": "B_TZHtZCctLi"
      },
      "execution_count": null,
      "outputs": []
    },
    {
      "cell_type": "markdown",
      "source": [
        "Q5: Capatilise the whole string "
      ],
      "metadata": {
        "id": "WNdSPcSncy-c"
      }
    },
    {
      "cell_type": "code",
      "source": [
        "s=\"this is My First Python programming class and i am learNING python string and its function\"\n",
        "s.capitalize()"
      ],
      "metadata": {
        "colab": {
          "base_uri": "https://localhost:8080/",
          "height": 35
        },
        "id": "CXOaYe1fc6iK",
        "outputId": "997d8330-ea59-46e7-dbf4-b7e2f3c04922"
      },
      "execution_count": 14,
      "outputs": [
        {
          "output_type": "execute_result",
          "data": {
            "text/plain": [
              "'This is my first python programming class and i am learning python string and its function'"
            ],
            "application/vnd.google.colaboratory.intrinsic+json": {
              "type": "string"
            }
          },
          "metadata": {},
          "execution_count": 14
        }
      ]
    },
    {
      "cell_type": "markdown",
      "source": [
        "Q6:  Difference b/w isalnum() and isalpha()   \n",
        "\n",
        "Ans: 1. isalnum :  returns a value either Alpa or numeric \n",
        "2.     isalpha: returns only alpha characters and no numeric ..\n",
        "\n",
        "\n",
        "\n",
        "\n"
      ],
      "metadata": {
        "id": "rm0rOEjJdNRQ"
      }
    },
    {
      "cell_type": "markdown",
      "source": [
        "Q7: An Example  of expand tab \n",
        " "
      ],
      "metadata": {
        "id": "AEtIXGH2gR79"
      }
    },
    {
      "cell_type": "markdown",
      "source": [
        "Expand tab returns a string where all the '\\t' characters are replaced by white spaces charcaters untill the next table size parameter  "
      ],
      "metadata": {
        "id": "Hrz7V_SicDHC"
      }
    },
    {
      "cell_type": "code",
      "source": [
        "s=\"basharat\\t1234\\tAhmed\"\n",
        "s.expandtabs()  (Default value is 8)"
      ],
      "metadata": {
        "colab": {
          "base_uri": "https://localhost:8080/",
          "height": 35
        },
        "id": "L8xGxf-6ZlQ1",
        "outputId": "33cf227a-a21d-476b-beb6-8a1f02ef44b8"
      },
      "execution_count": 16,
      "outputs": [
        {
          "output_type": "execute_result",
          "data": {
            "text/plain": [
              "'basharat        1234    Ahmed'"
            ],
            "application/vnd.google.colaboratory.intrinsic+json": {
              "type": "string"
            }
          },
          "metadata": {},
          "execution_count": 16
        }
      ]
    },
    {
      "cell_type": "code",
      "source": [
        "s=\"basharat\\t1234\\tAhmed\"\n",
        "s.expandtabs(30)             (here Table size paramter is 30)"
      ],
      "metadata": {
        "colab": {
          "base_uri": "https://localhost:8080/",
          "height": 35
        },
        "id": "yz20BoKYcktF",
        "outputId": "24cfd22b-06c5-40f5-adbf-bc1d7e0120e7"
      },
      "execution_count": 18,
      "outputs": [
        {
          "output_type": "execute_result",
          "data": {
            "text/plain": [
              "'basharat                      1234                          Ahmed'"
            ],
            "application/vnd.google.colaboratory.intrinsic+json": {
              "type": "string"
            }
          },
          "metadata": {},
          "execution_count": 18
        }
      ]
    },
    {
      "cell_type": "markdown",
      "source": [
        "Q8:Example of Strip, lstrip and rstrip \n",
        "Ans: Strip function removes  both leading and trailing white spaces in the string .l strip removes the leading spaces in the string hwhereas r strip function removes the trailing white spaces in the string . "
      ],
      "metadata": {
        "id": "u30xzXErdmwv"
      }
    },
    {
      "cell_type": "code",
      "source": [
        "s= \"     syed Basharat Ahmed          \"\n",
        "s.strip()"
      ],
      "metadata": {
        "colab": {
          "base_uri": "https://localhost:8080/",
          "height": 35
        },
        "id": "cVxT0Qyweu8T",
        "outputId": "eb65074c-c741-4577-c2eb-0db515bd3670"
      },
      "execution_count": 27,
      "outputs": [
        {
          "output_type": "execute_result",
          "data": {
            "text/plain": [
              "'syed Basharat Ahmed'"
            ],
            "application/vnd.google.colaboratory.intrinsic+json": {
              "type": "string"
            }
          },
          "metadata": {},
          "execution_count": 27
        }
      ]
    },
    {
      "cell_type": "code",
      "source": [
        "s= \"          syed basharat Ahmed      \"\n",
        "s.lstrip()"
      ],
      "metadata": {
        "colab": {
          "base_uri": "https://localhost:8080/",
          "height": 35
        },
        "id": "V_qhJ0hyfVck",
        "outputId": "c682a0ed-5d41-465a-9f65-09d79a8a54a0"
      },
      "execution_count": 30,
      "outputs": [
        {
          "output_type": "execute_result",
          "data": {
            "text/plain": [
              "'syed basharat Ahmed      '"
            ],
            "application/vnd.google.colaboratory.intrinsic+json": {
              "type": "string"
            }
          },
          "metadata": {},
          "execution_count": 30
        }
      ]
    },
    {
      "cell_type": "code",
      "source": [
        "s=\"           syed basharat Ahmed        \"\n",
        "s.rstrip()"
      ],
      "metadata": {
        "colab": {
          "base_uri": "https://localhost:8080/",
          "height": 35
        },
        "id": "RM6g41o3fjd7",
        "outputId": "2e306a39-cf54-44b1-c7ce-4f73d7c1b5e2"
      },
      "execution_count": 29,
      "outputs": [
        {
          "output_type": "execute_result",
          "data": {
            "text/plain": [
              "'           syed basharat Ahmed'"
            ],
            "application/vnd.google.colaboratory.intrinsic+json": {
              "type": "string"
            }
          },
          "metadata": {},
          "execution_count": 29
        }
      ]
    },
    {
      "cell_type": "markdown",
      "source": [
        ""
      ],
      "metadata": {
        "id": "pMZyP4ZwAoAX"
      }
    },
    {
      "cell_type": "markdown",
      "source": [
        "Q9: replacing a string charcter by another character ..\n"
      ],
      "metadata": {
        "id": "I6W8BIsFAquf"
      }
    },
    {
      "cell_type": "code",
      "source": [
        "s=\"sudhanshu\"\n",
        "s.replace('u','w')"
      ],
      "metadata": {
        "colab": {
          "base_uri": "https://localhost:8080/",
          "height": 35
        },
        "id": "EHJcy0oYAvnU",
        "outputId": "813683f9-0a30-4231-c8f6-ef75ebd5a850"
      },
      "execution_count": 42,
      "outputs": [
        {
          "output_type": "execute_result",
          "data": {
            "text/plain": [
              "'swdhanshw'"
            ],
            "application/vnd.google.colaboratory.intrinsic+json": {
              "type": "string"
            }
          },
          "metadata": {},
          "execution_count": 42
        }
      ]
    },
    {
      "cell_type": "markdown",
      "source": [
        "Q10: Definition of  String center function with an example \\\n",
        "Ans:  center function, center() returns a new centered string after padding it with the specified character ."
      ],
      "metadata": {
        "id": "b2xgeQfPB2ZW"
      }
    },
    {
      "cell_type": "code",
      "source": [
        "s=\"this is my first python assignement\"\n",
        "s.center(50,'$')"
      ],
      "metadata": {
        "colab": {
          "base_uri": "https://localhost:8080/",
          "height": 35
        },
        "id": "LnCgC1lr0LBL",
        "outputId": "a5c3e0ca-d758-4318-afea-44b9139b1fcb"
      },
      "execution_count": 4,
      "outputs": [
        {
          "output_type": "execute_result",
          "data": {
            "text/plain": [
              "'$$$$$$$this is my first python assignement$$$$$$$$'"
            ],
            "application/vnd.google.colaboratory.intrinsic+json": {
              "type": "string"
            }
          },
          "metadata": {},
          "execution_count": 4
        }
      ]
    },
    {
      "cell_type": "markdown",
      "source": [
        "Q11 . Definition of Compiler and interperter with our own understanding\n",
        " \n",
        "Ans: Compiler scans the entire human readable source code and converts inot machine lanaguage . Debugging is slow in Compiler , however, overall execution of the code is faster ..\n",
        "interpreter scans the program code line by line and converts to machine code..Debugging  is faster than compiler ,however, overall execution of the code is slower "
      ],
      "metadata": {
        "id": "nz9Q2K4V1AzI"
      }
    },
    {
      "cell_type": "markdown",
      "source": [
        "Q12. Python is an interpreted or compiled language, give a clear understanding in your language.\n",
        "\n",
        "Ans: Python is an interpreted language as python programs are executed by an interpreter ..python interpreter Compiles and executes the python code at same time whereas compiler Compiles the process into two parts .."
      ],
      "metadata": {
        "id": "g_olEqXX_8oJ"
      }
    },
    {
      "cell_type": "markdown",
      "source": [
        "Q13: use case of Python language \n",
        "\n",
        "Ans: python is used for Computer prograaming, website developments , application software development, web scraping, dat analysis , Artifical intelligence applications, game dvelopments , data science.."
      ],
      "metadata": {
        "id": "Csok1-lIJIX4"
      }
    }
  ]
}